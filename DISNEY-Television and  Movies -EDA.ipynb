{
 "cells": [
  {
   "cell_type": "code",
   "execution_count": null,
   "id": "8a257992",
   "metadata": {},
   "outputs": [],
   "source": [
    "import pandas as pd"
   ]
  },
  {
   "cell_type": "code",
   "execution_count": 2,
   "id": "4d2f8ab9",
   "metadata": {},
   "outputs": [
    {
     "data": {
      "text/html": [
       "<div>\n",
       "<style scoped>\n",
       "    .dataframe tbody tr th:only-of-type {\n",
       "        vertical-align: middle;\n",
       "    }\n",
       "\n",
       "    .dataframe tbody tr th {\n",
       "        vertical-align: top;\n",
       "    }\n",
       "\n",
       "    .dataframe thead th {\n",
       "        text-align: right;\n",
       "    }\n",
       "</style>\n",
       "<table border=\"1\" class=\"dataframe\">\n",
       "  <thead>\n",
       "    <tr style=\"text-align: right;\">\n",
       "      <th></th>\n",
       "      <th>show_id</th>\n",
       "      <th>type</th>\n",
       "      <th>title</th>\n",
       "      <th>director</th>\n",
       "      <th>cast</th>\n",
       "      <th>country</th>\n",
       "      <th>date_added</th>\n",
       "      <th>release_year</th>\n",
       "      <th>rating</th>\n",
       "      <th>duration</th>\n",
       "      <th>listed_in</th>\n",
       "      <th>description</th>\n",
       "    </tr>\n",
       "  </thead>\n",
       "  <tbody>\n",
       "    <tr>\n",
       "      <th>0</th>\n",
       "      <td>s1</td>\n",
       "      <td>Movie</td>\n",
       "      <td>Duck the Halls: A Mickey Mouse Christmas Special</td>\n",
       "      <td>Alonso Ramirez Ramos, Dave Wasson</td>\n",
       "      <td>Chris Diamantopoulos, Tony Anselmo, Tress MacN...</td>\n",
       "      <td>NaN</td>\n",
       "      <td>November 26, 2021</td>\n",
       "      <td>2016</td>\n",
       "      <td>TV-G</td>\n",
       "      <td>23 min</td>\n",
       "      <td>Animation, Family</td>\n",
       "      <td>Join Mickey and the gang as they duck the halls!</td>\n",
       "    </tr>\n",
       "    <tr>\n",
       "      <th>1</th>\n",
       "      <td>s2</td>\n",
       "      <td>Movie</td>\n",
       "      <td>Ernest Saves Christmas</td>\n",
       "      <td>John Cherry</td>\n",
       "      <td>Jim Varney, Noelle Parker, Douglas Seale</td>\n",
       "      <td>NaN</td>\n",
       "      <td>November 26, 2021</td>\n",
       "      <td>1988</td>\n",
       "      <td>PG</td>\n",
       "      <td>91 min</td>\n",
       "      <td>Comedy</td>\n",
       "      <td>Santa Claus passes his magic bag to a new St. ...</td>\n",
       "    </tr>\n",
       "    <tr>\n",
       "      <th>2</th>\n",
       "      <td>s3</td>\n",
       "      <td>Movie</td>\n",
       "      <td>Ice Age: A Mammoth Christmas</td>\n",
       "      <td>Karen Disher</td>\n",
       "      <td>Raymond Albert Romano, John Leguizamo, Denis L...</td>\n",
       "      <td>United States</td>\n",
       "      <td>November 26, 2021</td>\n",
       "      <td>2011</td>\n",
       "      <td>TV-G</td>\n",
       "      <td>23 min</td>\n",
       "      <td>Animation, Comedy, Family</td>\n",
       "      <td>Sid the Sloth is on Santa's naughty list.</td>\n",
       "    </tr>\n",
       "    <tr>\n",
       "      <th>3</th>\n",
       "      <td>s4</td>\n",
       "      <td>Movie</td>\n",
       "      <td>The Queen Family Singalong</td>\n",
       "      <td>Hamish Hamilton</td>\n",
       "      <td>Darren Criss, Adam Lambert, Derek Hough, Alexa...</td>\n",
       "      <td>NaN</td>\n",
       "      <td>November 26, 2021</td>\n",
       "      <td>2021</td>\n",
       "      <td>TV-PG</td>\n",
       "      <td>41 min</td>\n",
       "      <td>Musical</td>\n",
       "      <td>This is real life, not just fantasy!</td>\n",
       "    </tr>\n",
       "    <tr>\n",
       "      <th>4</th>\n",
       "      <td>s5</td>\n",
       "      <td>TV Show</td>\n",
       "      <td>The Beatles: Get Back</td>\n",
       "      <td>NaN</td>\n",
       "      <td>John Lennon, Paul McCartney, George Harrison, ...</td>\n",
       "      <td>NaN</td>\n",
       "      <td>November 25, 2021</td>\n",
       "      <td>2021</td>\n",
       "      <td>NaN</td>\n",
       "      <td>1 Season</td>\n",
       "      <td>Docuseries, Historical, Music</td>\n",
       "      <td>A three-part documentary from Peter Jackson ca...</td>\n",
       "    </tr>\n",
       "    <tr>\n",
       "      <th>...</th>\n",
       "      <td>...</td>\n",
       "      <td>...</td>\n",
       "      <td>...</td>\n",
       "      <td>...</td>\n",
       "      <td>...</td>\n",
       "      <td>...</td>\n",
       "      <td>...</td>\n",
       "      <td>...</td>\n",
       "      <td>...</td>\n",
       "      <td>...</td>\n",
       "      <td>...</td>\n",
       "      <td>...</td>\n",
       "    </tr>\n",
       "    <tr>\n",
       "      <th>1445</th>\n",
       "      <td>s1446</td>\n",
       "      <td>Movie</td>\n",
       "      <td>X-Men Origins: Wolverine</td>\n",
       "      <td>Gavin Hood</td>\n",
       "      <td>Hugh Jackman, Liev Schreiber, Danny Huston, wi...</td>\n",
       "      <td>United States, United Kingdom</td>\n",
       "      <td>June 4, 2021</td>\n",
       "      <td>2009</td>\n",
       "      <td>PG-13</td>\n",
       "      <td>108 min</td>\n",
       "      <td>Action-Adventure, Family, Science Fiction</td>\n",
       "      <td>Wolverine unites with legendary X-Men to fight...</td>\n",
       "    </tr>\n",
       "    <tr>\n",
       "      <th>1446</th>\n",
       "      <td>s1447</td>\n",
       "      <td>Movie</td>\n",
       "      <td>Night at the Museum: Battle of the Smithsonian</td>\n",
       "      <td>Shawn Levy</td>\n",
       "      <td>Ben Stiller, Amy Adams, Owen Wilson, Hank Azar...</td>\n",
       "      <td>United States, Canada</td>\n",
       "      <td>April 2, 2021</td>\n",
       "      <td>2009</td>\n",
       "      <td>PG</td>\n",
       "      <td>106 min</td>\n",
       "      <td>Action-Adventure, Comedy, Family</td>\n",
       "      <td>Larry Daley returns to rescue some old friends...</td>\n",
       "    </tr>\n",
       "    <tr>\n",
       "      <th>1447</th>\n",
       "      <td>s1448</td>\n",
       "      <td>Movie</td>\n",
       "      <td>Eddie the Eagle</td>\n",
       "      <td>Dexter Fletcher</td>\n",
       "      <td>Tom Costello, Jo Hartley, Keith Allen, Dickon ...</td>\n",
       "      <td>United Kingdom, Germany, United States</td>\n",
       "      <td>December 18, 2020</td>\n",
       "      <td>2016</td>\n",
       "      <td>PG-13</td>\n",
       "      <td>107 min</td>\n",
       "      <td>Biographical, Comedy, Drama</td>\n",
       "      <td>True story of Eddie Edwards, a British ski-jum...</td>\n",
       "    </tr>\n",
       "    <tr>\n",
       "      <th>1448</th>\n",
       "      <td>s1449</td>\n",
       "      <td>Movie</td>\n",
       "      <td>Bend It Like Beckham</td>\n",
       "      <td>Gurinder Chadha</td>\n",
       "      <td>Parminder Nagra, Keira Knightley, Jonathan Rhy...</td>\n",
       "      <td>United Kingdom, Germany, United States</td>\n",
       "      <td>September 18, 2020</td>\n",
       "      <td>2003</td>\n",
       "      <td>PG-13</td>\n",
       "      <td>112 min</td>\n",
       "      <td>Buddy, Comedy, Coming of Age</td>\n",
       "      <td>Despite the wishes of their traditional famili...</td>\n",
       "    </tr>\n",
       "    <tr>\n",
       "      <th>1449</th>\n",
       "      <td>s1450</td>\n",
       "      <td>Movie</td>\n",
       "      <td>Captain Sparky vs. The Flying Saucers</td>\n",
       "      <td>Mark Waring</td>\n",
       "      <td>Charlie Tahan</td>\n",
       "      <td>United States</td>\n",
       "      <td>April 1, 2020</td>\n",
       "      <td>2012</td>\n",
       "      <td>TV-G</td>\n",
       "      <td>2 min</td>\n",
       "      <td>Action-Adventure, Animals &amp; Nature, Animation</td>\n",
       "      <td>View one of Sparky's favorite home movies.</td>\n",
       "    </tr>\n",
       "  </tbody>\n",
       "</table>\n",
       "<p>1450 rows × 12 columns</p>\n",
       "</div>"
      ],
      "text/plain": [
       "     show_id     type                                             title  \\\n",
       "0         s1    Movie  Duck the Halls: A Mickey Mouse Christmas Special   \n",
       "1         s2    Movie                            Ernest Saves Christmas   \n",
       "2         s3    Movie                      Ice Age: A Mammoth Christmas   \n",
       "3         s4    Movie                        The Queen Family Singalong   \n",
       "4         s5  TV Show                             The Beatles: Get Back   \n",
       "...      ...      ...                                               ...   \n",
       "1445   s1446    Movie                          X-Men Origins: Wolverine   \n",
       "1446   s1447    Movie    Night at the Museum: Battle of the Smithsonian   \n",
       "1447   s1448    Movie                                   Eddie the Eagle   \n",
       "1448   s1449    Movie                              Bend It Like Beckham   \n",
       "1449   s1450    Movie             Captain Sparky vs. The Flying Saucers   \n",
       "\n",
       "                               director  \\\n",
       "0     Alonso Ramirez Ramos, Dave Wasson   \n",
       "1                           John Cherry   \n",
       "2                          Karen Disher   \n",
       "3                       Hamish Hamilton   \n",
       "4                                   NaN   \n",
       "...                                 ...   \n",
       "1445                         Gavin Hood   \n",
       "1446                         Shawn Levy   \n",
       "1447                    Dexter Fletcher   \n",
       "1448                    Gurinder Chadha   \n",
       "1449                        Mark Waring   \n",
       "\n",
       "                                                   cast  \\\n",
       "0     Chris Diamantopoulos, Tony Anselmo, Tress MacN...   \n",
       "1              Jim Varney, Noelle Parker, Douglas Seale   \n",
       "2     Raymond Albert Romano, John Leguizamo, Denis L...   \n",
       "3     Darren Criss, Adam Lambert, Derek Hough, Alexa...   \n",
       "4     John Lennon, Paul McCartney, George Harrison, ...   \n",
       "...                                                 ...   \n",
       "1445  Hugh Jackman, Liev Schreiber, Danny Huston, wi...   \n",
       "1446  Ben Stiller, Amy Adams, Owen Wilson, Hank Azar...   \n",
       "1447  Tom Costello, Jo Hartley, Keith Allen, Dickon ...   \n",
       "1448  Parminder Nagra, Keira Knightley, Jonathan Rhy...   \n",
       "1449                                      Charlie Tahan   \n",
       "\n",
       "                                     country          date_added  \\\n",
       "0                                        NaN   November 26, 2021   \n",
       "1                                        NaN   November 26, 2021   \n",
       "2                              United States   November 26, 2021   \n",
       "3                                        NaN   November 26, 2021   \n",
       "4                                        NaN   November 25, 2021   \n",
       "...                                      ...                 ...   \n",
       "1445           United States, United Kingdom        June 4, 2021   \n",
       "1446                   United States, Canada       April 2, 2021   \n",
       "1447  United Kingdom, Germany, United States   December 18, 2020   \n",
       "1448  United Kingdom, Germany, United States  September 18, 2020   \n",
       "1449                           United States       April 1, 2020   \n",
       "\n",
       "      release_year rating  duration  \\\n",
       "0             2016   TV-G    23 min   \n",
       "1             1988     PG    91 min   \n",
       "2             2011   TV-G    23 min   \n",
       "3             2021  TV-PG    41 min   \n",
       "4             2021    NaN  1 Season   \n",
       "...            ...    ...       ...   \n",
       "1445          2009  PG-13   108 min   \n",
       "1446          2009     PG   106 min   \n",
       "1447          2016  PG-13   107 min   \n",
       "1448          2003  PG-13   112 min   \n",
       "1449          2012   TV-G     2 min   \n",
       "\n",
       "                                          listed_in  \\\n",
       "0                                 Animation, Family   \n",
       "1                                            Comedy   \n",
       "2                         Animation, Comedy, Family   \n",
       "3                                           Musical   \n",
       "4                     Docuseries, Historical, Music   \n",
       "...                                             ...   \n",
       "1445      Action-Adventure, Family, Science Fiction   \n",
       "1446               Action-Adventure, Comedy, Family   \n",
       "1447                    Biographical, Comedy, Drama   \n",
       "1448                   Buddy, Comedy, Coming of Age   \n",
       "1449  Action-Adventure, Animals & Nature, Animation   \n",
       "\n",
       "                                            description  \n",
       "0      Join Mickey and the gang as they duck the halls!  \n",
       "1     Santa Claus passes his magic bag to a new St. ...  \n",
       "2             Sid the Sloth is on Santa's naughty list.  \n",
       "3                  This is real life, not just fantasy!  \n",
       "4     A three-part documentary from Peter Jackson ca...  \n",
       "...                                                 ...  \n",
       "1445  Wolverine unites with legendary X-Men to fight...  \n",
       "1446  Larry Daley returns to rescue some old friends...  \n",
       "1447  True story of Eddie Edwards, a British ski-jum...  \n",
       "1448  Despite the wishes of their traditional famili...  \n",
       "1449         View one of Sparky's favorite home movies.  \n",
       "\n",
       "[1450 rows x 12 columns]"
      ]
     },
     "execution_count": 2,
     "metadata": {},
     "output_type": "execute_result"
    }
   ],
   "source": [
    "import pandas as pd\n",
    "data=pd.read_csv('disney_plus_titles.csv')"
   ]
  },
  {
   "cell_type": "markdown",
   "id": "99fe0cbe",
   "metadata": {},
   "source": [
    "# 1. How many rows and columns are there in the dataset?"
   ]
  },
  {
   "cell_type": "code",
   "execution_count": 8,
   "id": "73b55cc7",
   "metadata": {},
   "outputs": [
    {
     "data": {
      "text/plain": [
       "1450"
      ]
     },
     "execution_count": 8,
     "metadata": {},
     "output_type": "execute_result"
    }
   ],
   "source": [
    "import pandas as pd\n",
    "data=pd.read_csv('disney_plus_titles.csv')\n",
    "data.shape[0]"
   ]
  },
  {
   "cell_type": "code",
   "execution_count": 9,
   "id": "8660625e",
   "metadata": {},
   "outputs": [
    {
     "data": {
      "text/plain": [
       "12"
      ]
     },
     "execution_count": 9,
     "metadata": {},
     "output_type": "execute_result"
    }
   ],
   "source": [
    "data.shape[1]"
   ]
  },
  {
   "cell_type": "markdown",
   "id": "3aeb60c0",
   "metadata": {},
   "source": [
    "# 2. What are the unique types of shows/movies available in the dataset?"
   ]
  },
  {
   "cell_type": "code",
   "execution_count": 11,
   "id": "3fbe6892",
   "metadata": {},
   "outputs": [
    {
     "data": {
      "text/plain": [
       "array(['Movie', 'TV Show'], dtype=object)"
      ]
     },
     "execution_count": 11,
     "metadata": {},
     "output_type": "execute_result"
    }
   ],
   "source": [
    "data['type'].unique()"
   ]
  },
  {
   "cell_type": "markdown",
   "id": "f21b395b",
   "metadata": {},
   "source": [
    "# 3. What is the average duration of movies in the dataset?"
   ]
  },
  {
   "cell_type": "code",
   "execution_count": 2,
   "id": "47270910",
   "metadata": {},
   "outputs": [
    {
     "data": {
      "text/plain": [
       "71.9106463878327"
      ]
     },
     "execution_count": 2,
     "metadata": {},
     "output_type": "execute_result"
    }
   ],
   "source": [
    "import pandas as pd\n",
    "data=pd.read_csv('disney_plus_titles.csv')\n",
    "# Convert 'duration' to numeric values\n",
    "data['duration_numeric'] = pd.to_numeric(data[data['type'] == 'Movie']['duration'].str.extract('(\\d+)', expand=False), errors='coerce')\n",
    "# Calculate the average duration of movies\n",
    "average_duration = data[data['type'] == 'Movie']['duration_numeric'].mean()\n",
    "average_duration"
   ]
  },
  {
   "cell_type": "markdown",
   "id": "b18bc49a",
   "metadata": {},
   "source": [
    "# 4. List the top 5 shows/movies released in 2021."
   ]
  },
  {
   "cell_type": "code",
   "execution_count": 3,
   "id": "ad31e6e4",
   "metadata": {},
   "outputs": [
    {
     "data": {
      "text/html": [
       "<div>\n",
       "<style scoped>\n",
       "    .dataframe tbody tr th:only-of-type {\n",
       "        vertical-align: middle;\n",
       "    }\n",
       "\n",
       "    .dataframe tbody tr th {\n",
       "        vertical-align: top;\n",
       "    }\n",
       "\n",
       "    .dataframe thead th {\n",
       "        text-align: right;\n",
       "    }\n",
       "</style>\n",
       "<table border=\"1\" class=\"dataframe\">\n",
       "  <thead>\n",
       "    <tr style=\"text-align: right;\">\n",
       "      <th></th>\n",
       "      <th>show_id</th>\n",
       "      <th>type</th>\n",
       "      <th>title</th>\n",
       "      <th>director</th>\n",
       "      <th>cast</th>\n",
       "      <th>country</th>\n",
       "      <th>date_added</th>\n",
       "      <th>release_year</th>\n",
       "      <th>rating</th>\n",
       "      <th>duration</th>\n",
       "      <th>listed_in</th>\n",
       "      <th>description</th>\n",
       "      <th>duration_numeric</th>\n",
       "    </tr>\n",
       "  </thead>\n",
       "  <tbody>\n",
       "    <tr>\n",
       "      <th>112</th>\n",
       "      <td>s113</td>\n",
       "      <td>TV Show</td>\n",
       "      <td>Doogie Kamealoha, M.D.</td>\n",
       "      <td>NaN</td>\n",
       "      <td>Peyton Elizabeth Lee, Emma Meisel, Matthew Sat...</td>\n",
       "      <td>United States</td>\n",
       "      <td>September 8, 2021</td>\n",
       "      <td>2021</td>\n",
       "      <td>TV-PG</td>\n",
       "      <td>1 Season</td>\n",
       "      <td>Comedy, Coming of Age, Family</td>\n",
       "      <td>A 16-year-old prodigy juggles her budding medi...</td>\n",
       "      <td>NaN</td>\n",
       "    </tr>\n",
       "    <tr>\n",
       "      <th>116</th>\n",
       "      <td>s117</td>\n",
       "      <td>Movie</td>\n",
       "      <td>Happier Than Ever: A Love Letter to Los Angeles</td>\n",
       "      <td>Robert Rodriguez, Patrick Osborne</td>\n",
       "      <td>Billie Eilish, FINNEAS</td>\n",
       "      <td>United States</td>\n",
       "      <td>September 3, 2021</td>\n",
       "      <td>2021</td>\n",
       "      <td>TV-14</td>\n",
       "      <td>66 min</td>\n",
       "      <td>Concert Film, Music</td>\n",
       "      <td>Billie Eilish makes her Disney+ debut with \"Ha...</td>\n",
       "      <td>66.0</td>\n",
       "    </tr>\n",
       "    <tr>\n",
       "      <th>86</th>\n",
       "      <td>s87</td>\n",
       "      <td>TV Show</td>\n",
       "      <td>Disney's Magic Bake-Off</td>\n",
       "      <td>NaN</td>\n",
       "      <td>Issac Ryan Brown, Dara Reneé, Graciela Gomez</td>\n",
       "      <td>United States</td>\n",
       "      <td>September 29, 2021</td>\n",
       "      <td>2021</td>\n",
       "      <td>TV-G</td>\n",
       "      <td>1 Season</td>\n",
       "      <td>Family, Game Show / Competition</td>\n",
       "      <td>Kid bakers compete to be named Disney Baking C...</td>\n",
       "      <td>NaN</td>\n",
       "    </tr>\n",
       "    <tr>\n",
       "      <th>90</th>\n",
       "      <td>s91</td>\n",
       "      <td>TV Show</td>\n",
       "      <td>Star Wars Galaxy of Sounds</td>\n",
       "      <td>NaN</td>\n",
       "      <td>NaN</td>\n",
       "      <td>NaN</td>\n",
       "      <td>September 29, 2021</td>\n",
       "      <td>2021</td>\n",
       "      <td>TV-PG</td>\n",
       "      <td>1 Season</td>\n",
       "      <td>Animation, Anthology, Science Fiction</td>\n",
       "      <td>\"Star Wars Galaxy of Sounds\" immerses audience...</td>\n",
       "      <td>NaN</td>\n",
       "    </tr>\n",
       "    <tr>\n",
       "      <th>91</th>\n",
       "      <td>s92</td>\n",
       "      <td>TV Show</td>\n",
       "      <td>The Hatcher Family Dairy</td>\n",
       "      <td>NaN</td>\n",
       "      <td>NaN</td>\n",
       "      <td>NaN</td>\n",
       "      <td>September 29, 2021</td>\n",
       "      <td>2021</td>\n",
       "      <td>TV-14</td>\n",
       "      <td>1 Season</td>\n",
       "      <td>Animals &amp; Nature, Docuseries, Reality</td>\n",
       "      <td>The Hatcher Family enjoys a nonstop circus of ...</td>\n",
       "      <td>NaN</td>\n",
       "    </tr>\n",
       "  </tbody>\n",
       "</table>\n",
       "</div>"
      ],
      "text/plain": [
       "    show_id     type                                            title  \\\n",
       "112    s113  TV Show                           Doogie Kamealoha, M.D.   \n",
       "116    s117    Movie  Happier Than Ever: A Love Letter to Los Angeles   \n",
       "86      s87  TV Show                          Disney's Magic Bake-Off   \n",
       "90      s91  TV Show                       Star Wars Galaxy of Sounds   \n",
       "91      s92  TV Show                         The Hatcher Family Dairy   \n",
       "\n",
       "                              director  \\\n",
       "112                                NaN   \n",
       "116  Robert Rodriguez, Patrick Osborne   \n",
       "86                                 NaN   \n",
       "90                                 NaN   \n",
       "91                                 NaN   \n",
       "\n",
       "                                                  cast        country  \\\n",
       "112  Peyton Elizabeth Lee, Emma Meisel, Matthew Sat...  United States   \n",
       "116                             Billie Eilish, FINNEAS  United States   \n",
       "86        Issac Ryan Brown, Dara Reneé, Graciela Gomez  United States   \n",
       "90                                                 NaN            NaN   \n",
       "91                                                 NaN            NaN   \n",
       "\n",
       "             date_added  release_year rating  duration  \\\n",
       "112   September 8, 2021          2021  TV-PG  1 Season   \n",
       "116   September 3, 2021          2021  TV-14    66 min   \n",
       "86   September 29, 2021          2021   TV-G  1 Season   \n",
       "90   September 29, 2021          2021  TV-PG  1 Season   \n",
       "91   September 29, 2021          2021  TV-14  1 Season   \n",
       "\n",
       "                                 listed_in  \\\n",
       "112          Comedy, Coming of Age, Family   \n",
       "116                    Concert Film, Music   \n",
       "86         Family, Game Show / Competition   \n",
       "90   Animation, Anthology, Science Fiction   \n",
       "91   Animals & Nature, Docuseries, Reality   \n",
       "\n",
       "                                           description  duration_numeric  \n",
       "112  A 16-year-old prodigy juggles her budding medi...               NaN  \n",
       "116  Billie Eilish makes her Disney+ debut with \"Ha...              66.0  \n",
       "86   Kid bakers compete to be named Disney Baking C...               NaN  \n",
       "90   \"Star Wars Galaxy of Sounds\" immerses audience...               NaN  \n",
       "91   The Hatcher Family enjoys a nonstop circus of ...               NaN  "
      ]
     },
     "execution_count": 3,
     "metadata": {},
     "output_type": "execute_result"
    }
   ],
   "source": [
    "data[data['release_year'] == 2021].sort_values(by='date_added', ascending=False).head(5)"
   ]
  },
  {
   "cell_type": "markdown",
   "id": "83d5a165",
   "metadata": {},
   "source": [
    "# 5. How many seasons does the TV Show 'Dr. Oakley, Yukon Vet' have?"
   ]
  },
  {
   "cell_type": "code",
   "execution_count": 4,
   "id": "d433c365",
   "metadata": {},
   "outputs": [
    {
     "data": {
      "text/plain": [
       "'10 Seasons'"
      ]
     },
     "execution_count": 4,
     "metadata": {},
     "output_type": "execute_result"
    }
   ],
   "source": [
    "data[data['title'] == 'Dr. Oakley, Yukon Vet']['duration'].max()"
   ]
  },
  {
   "cell_type": "markdown",
   "id": "a4dac507",
   "metadata": {},
   "source": [
    "# 6. List the directors with the most number of shows/movies in the dataset."
   ]
  },
  {
   "cell_type": "code",
   "execution_count": 5,
   "id": "9340db7a",
   "metadata": {},
   "outputs": [
    {
     "data": {
      "text/plain": [
       "director\n",
       "Jack Hannah         17\n",
       "John Lasseter       16\n",
       "Paul Hoen           16\n",
       "Robert Stevenson    12\n",
       "Charles Nichols     12\n",
       "Name: count, dtype: int64"
      ]
     },
     "execution_count": 5,
     "metadata": {},
     "output_type": "execute_result"
    }
   ],
   "source": [
    "data['director'].value_counts().head()"
   ]
  },
  {
   "cell_type": "markdown",
   "id": "8612f746",
   "metadata": {},
   "source": [
    "# 7. List the top 3 countries with the most shows/movies in the dataset"
   ]
  },
  {
   "cell_type": "code",
   "execution_count": 30,
   "id": "bce570fb",
   "metadata": {},
   "outputs": [
    {
     "data": {
      "text/plain": [
       "country\n",
       "United States            1005\n",
       "United States, Canada      30\n",
       "United Kingdom             23\n",
       "Name: count, dtype: int64"
      ]
     },
     "execution_count": 30,
     "metadata": {},
     "output_type": "execute_result"
    }
   ],
   "source": [
    " data['country'].value_counts().head(3)"
   ]
  },
  {
   "cell_type": "markdown",
   "id": "bb7be4c3",
   "metadata": {},
   "source": [
    "# 8.Display the first 5 rows of the dataset."
   ]
  },
  {
   "cell_type": "code",
   "execution_count": 32,
   "id": "ed7acd5f",
   "metadata": {},
   "outputs": [
    {
     "data": {
      "text/html": [
       "<div>\n",
       "<style scoped>\n",
       "    .dataframe tbody tr th:only-of-type {\n",
       "        vertical-align: middle;\n",
       "    }\n",
       "\n",
       "    .dataframe tbody tr th {\n",
       "        vertical-align: top;\n",
       "    }\n",
       "\n",
       "    .dataframe thead th {\n",
       "        text-align: right;\n",
       "    }\n",
       "</style>\n",
       "<table border=\"1\" class=\"dataframe\">\n",
       "  <thead>\n",
       "    <tr style=\"text-align: right;\">\n",
       "      <th></th>\n",
       "      <th>show_id</th>\n",
       "      <th>type</th>\n",
       "      <th>title</th>\n",
       "      <th>director</th>\n",
       "      <th>cast</th>\n",
       "      <th>country</th>\n",
       "      <th>date_added</th>\n",
       "      <th>release_year</th>\n",
       "      <th>rating</th>\n",
       "      <th>duration</th>\n",
       "      <th>listed_in</th>\n",
       "      <th>description</th>\n",
       "      <th>duration_numeric</th>\n",
       "    </tr>\n",
       "  </thead>\n",
       "  <tbody>\n",
       "    <tr>\n",
       "      <th>0</th>\n",
       "      <td>s1</td>\n",
       "      <td>Movie</td>\n",
       "      <td>Duck the Halls: A Mickey Mouse Christmas Special</td>\n",
       "      <td>Alonso Ramirez Ramos, Dave Wasson</td>\n",
       "      <td>Chris Diamantopoulos, Tony Anselmo, Tress MacN...</td>\n",
       "      <td>NaN</td>\n",
       "      <td>November 26, 2021</td>\n",
       "      <td>2016</td>\n",
       "      <td>TV-G</td>\n",
       "      <td>23 min</td>\n",
       "      <td>Animation, Family</td>\n",
       "      <td>Join Mickey and the gang as they duck the halls!</td>\n",
       "      <td>23.0</td>\n",
       "    </tr>\n",
       "    <tr>\n",
       "      <th>1</th>\n",
       "      <td>s2</td>\n",
       "      <td>Movie</td>\n",
       "      <td>Ernest Saves Christmas</td>\n",
       "      <td>John Cherry</td>\n",
       "      <td>Jim Varney, Noelle Parker, Douglas Seale</td>\n",
       "      <td>NaN</td>\n",
       "      <td>November 26, 2021</td>\n",
       "      <td>1988</td>\n",
       "      <td>PG</td>\n",
       "      <td>91 min</td>\n",
       "      <td>Comedy</td>\n",
       "      <td>Santa Claus passes his magic bag to a new St. ...</td>\n",
       "      <td>91.0</td>\n",
       "    </tr>\n",
       "    <tr>\n",
       "      <th>2</th>\n",
       "      <td>s3</td>\n",
       "      <td>Movie</td>\n",
       "      <td>Ice Age: A Mammoth Christmas</td>\n",
       "      <td>Karen Disher</td>\n",
       "      <td>Raymond Albert Romano, John Leguizamo, Denis L...</td>\n",
       "      <td>United States</td>\n",
       "      <td>November 26, 2021</td>\n",
       "      <td>2011</td>\n",
       "      <td>TV-G</td>\n",
       "      <td>23 min</td>\n",
       "      <td>Animation, Comedy, Family</td>\n",
       "      <td>Sid the Sloth is on Santa's naughty list.</td>\n",
       "      <td>23.0</td>\n",
       "    </tr>\n",
       "    <tr>\n",
       "      <th>3</th>\n",
       "      <td>s4</td>\n",
       "      <td>Movie</td>\n",
       "      <td>The Queen Family Singalong</td>\n",
       "      <td>Hamish Hamilton</td>\n",
       "      <td>Darren Criss, Adam Lambert, Derek Hough, Alexa...</td>\n",
       "      <td>NaN</td>\n",
       "      <td>November 26, 2021</td>\n",
       "      <td>2021</td>\n",
       "      <td>TV-PG</td>\n",
       "      <td>41 min</td>\n",
       "      <td>Musical</td>\n",
       "      <td>This is real life, not just fantasy!</td>\n",
       "      <td>41.0</td>\n",
       "    </tr>\n",
       "    <tr>\n",
       "      <th>4</th>\n",
       "      <td>s5</td>\n",
       "      <td>TV Show</td>\n",
       "      <td>The Beatles: Get Back</td>\n",
       "      <td>NaN</td>\n",
       "      <td>John Lennon, Paul McCartney, George Harrison, ...</td>\n",
       "      <td>NaN</td>\n",
       "      <td>November 25, 2021</td>\n",
       "      <td>2021</td>\n",
       "      <td>NaN</td>\n",
       "      <td>1 Season</td>\n",
       "      <td>Docuseries, Historical, Music</td>\n",
       "      <td>A three-part documentary from Peter Jackson ca...</td>\n",
       "      <td>NaN</td>\n",
       "    </tr>\n",
       "  </tbody>\n",
       "</table>\n",
       "</div>"
      ],
      "text/plain": [
       "  show_id     type                                             title  \\\n",
       "0      s1    Movie  Duck the Halls: A Mickey Mouse Christmas Special   \n",
       "1      s2    Movie                            Ernest Saves Christmas   \n",
       "2      s3    Movie                      Ice Age: A Mammoth Christmas   \n",
       "3      s4    Movie                        The Queen Family Singalong   \n",
       "4      s5  TV Show                             The Beatles: Get Back   \n",
       "\n",
       "                            director  \\\n",
       "0  Alonso Ramirez Ramos, Dave Wasson   \n",
       "1                        John Cherry   \n",
       "2                       Karen Disher   \n",
       "3                    Hamish Hamilton   \n",
       "4                                NaN   \n",
       "\n",
       "                                                cast        country  \\\n",
       "0  Chris Diamantopoulos, Tony Anselmo, Tress MacN...            NaN   \n",
       "1           Jim Varney, Noelle Parker, Douglas Seale            NaN   \n",
       "2  Raymond Albert Romano, John Leguizamo, Denis L...  United States   \n",
       "3  Darren Criss, Adam Lambert, Derek Hough, Alexa...            NaN   \n",
       "4  John Lennon, Paul McCartney, George Harrison, ...            NaN   \n",
       "\n",
       "          date_added  release_year rating  duration  \\\n",
       "0  November 26, 2021          2016   TV-G    23 min   \n",
       "1  November 26, 2021          1988     PG    91 min   \n",
       "2  November 26, 2021          2011   TV-G    23 min   \n",
       "3  November 26, 2021          2021  TV-PG    41 min   \n",
       "4  November 25, 2021          2021    NaN  1 Season   \n",
       "\n",
       "                       listed_in  \\\n",
       "0              Animation, Family   \n",
       "1                         Comedy   \n",
       "2      Animation, Comedy, Family   \n",
       "3                        Musical   \n",
       "4  Docuseries, Historical, Music   \n",
       "\n",
       "                                         description  duration_numeric  \n",
       "0   Join Mickey and the gang as they duck the halls!              23.0  \n",
       "1  Santa Claus passes his magic bag to a new St. ...              91.0  \n",
       "2          Sid the Sloth is on Santa's naughty list.              23.0  \n",
       "3               This is real life, not just fantasy!              41.0  \n",
       "4  A three-part documentary from Peter Jackson ca...               NaN  "
      ]
     },
     "execution_count": 32,
     "metadata": {},
     "output_type": "execute_result"
    }
   ],
   "source": [
    "data.head(5)"
   ]
  },
  {
   "cell_type": "markdown",
   "id": "c6e89a9b",
   "metadata": {},
   "source": [
    "# 9.Check for any missing values in the dataset."
   ]
  },
  {
   "cell_type": "code",
   "execution_count": 7,
   "id": "0a1b53d6",
   "metadata": {},
   "outputs": [
    {
     "data": {
      "text/html": [
       "<div>\n",
       "<style scoped>\n",
       "    .dataframe tbody tr th:only-of-type {\n",
       "        vertical-align: middle;\n",
       "    }\n",
       "\n",
       "    .dataframe tbody tr th {\n",
       "        vertical-align: top;\n",
       "    }\n",
       "\n",
       "    .dataframe thead th {\n",
       "        text-align: right;\n",
       "    }\n",
       "</style>\n",
       "<table border=\"1\" class=\"dataframe\">\n",
       "  <thead>\n",
       "    <tr style=\"text-align: right;\">\n",
       "      <th></th>\n",
       "      <th>show_id</th>\n",
       "      <th>type</th>\n",
       "      <th>title</th>\n",
       "      <th>director</th>\n",
       "      <th>cast</th>\n",
       "      <th>country</th>\n",
       "      <th>date_added</th>\n",
       "      <th>release_year</th>\n",
       "      <th>rating</th>\n",
       "      <th>duration</th>\n",
       "      <th>listed_in</th>\n",
       "      <th>description</th>\n",
       "      <th>duration_numeric</th>\n",
       "    </tr>\n",
       "  </thead>\n",
       "  <tbody>\n",
       "    <tr>\n",
       "      <th>0</th>\n",
       "      <td>False</td>\n",
       "      <td>False</td>\n",
       "      <td>False</td>\n",
       "      <td>False</td>\n",
       "      <td>False</td>\n",
       "      <td>True</td>\n",
       "      <td>False</td>\n",
       "      <td>False</td>\n",
       "      <td>False</td>\n",
       "      <td>False</td>\n",
       "      <td>False</td>\n",
       "      <td>False</td>\n",
       "      <td>False</td>\n",
       "    </tr>\n",
       "    <tr>\n",
       "      <th>1</th>\n",
       "      <td>False</td>\n",
       "      <td>False</td>\n",
       "      <td>False</td>\n",
       "      <td>False</td>\n",
       "      <td>False</td>\n",
       "      <td>True</td>\n",
       "      <td>False</td>\n",
       "      <td>False</td>\n",
       "      <td>False</td>\n",
       "      <td>False</td>\n",
       "      <td>False</td>\n",
       "      <td>False</td>\n",
       "      <td>False</td>\n",
       "    </tr>\n",
       "    <tr>\n",
       "      <th>2</th>\n",
       "      <td>False</td>\n",
       "      <td>False</td>\n",
       "      <td>False</td>\n",
       "      <td>False</td>\n",
       "      <td>False</td>\n",
       "      <td>False</td>\n",
       "      <td>False</td>\n",
       "      <td>False</td>\n",
       "      <td>False</td>\n",
       "      <td>False</td>\n",
       "      <td>False</td>\n",
       "      <td>False</td>\n",
       "      <td>False</td>\n",
       "    </tr>\n",
       "    <tr>\n",
       "      <th>3</th>\n",
       "      <td>False</td>\n",
       "      <td>False</td>\n",
       "      <td>False</td>\n",
       "      <td>False</td>\n",
       "      <td>False</td>\n",
       "      <td>True</td>\n",
       "      <td>False</td>\n",
       "      <td>False</td>\n",
       "      <td>False</td>\n",
       "      <td>False</td>\n",
       "      <td>False</td>\n",
       "      <td>False</td>\n",
       "      <td>False</td>\n",
       "    </tr>\n",
       "    <tr>\n",
       "      <th>4</th>\n",
       "      <td>False</td>\n",
       "      <td>False</td>\n",
       "      <td>False</td>\n",
       "      <td>True</td>\n",
       "      <td>False</td>\n",
       "      <td>True</td>\n",
       "      <td>False</td>\n",
       "      <td>False</td>\n",
       "      <td>True</td>\n",
       "      <td>False</td>\n",
       "      <td>False</td>\n",
       "      <td>False</td>\n",
       "      <td>True</td>\n",
       "    </tr>\n",
       "    <tr>\n",
       "      <th>...</th>\n",
       "      <td>...</td>\n",
       "      <td>...</td>\n",
       "      <td>...</td>\n",
       "      <td>...</td>\n",
       "      <td>...</td>\n",
       "      <td>...</td>\n",
       "      <td>...</td>\n",
       "      <td>...</td>\n",
       "      <td>...</td>\n",
       "      <td>...</td>\n",
       "      <td>...</td>\n",
       "      <td>...</td>\n",
       "      <td>...</td>\n",
       "    </tr>\n",
       "    <tr>\n",
       "      <th>1445</th>\n",
       "      <td>False</td>\n",
       "      <td>False</td>\n",
       "      <td>False</td>\n",
       "      <td>False</td>\n",
       "      <td>False</td>\n",
       "      <td>False</td>\n",
       "      <td>False</td>\n",
       "      <td>False</td>\n",
       "      <td>False</td>\n",
       "      <td>False</td>\n",
       "      <td>False</td>\n",
       "      <td>False</td>\n",
       "      <td>False</td>\n",
       "    </tr>\n",
       "    <tr>\n",
       "      <th>1446</th>\n",
       "      <td>False</td>\n",
       "      <td>False</td>\n",
       "      <td>False</td>\n",
       "      <td>False</td>\n",
       "      <td>False</td>\n",
       "      <td>False</td>\n",
       "      <td>False</td>\n",
       "      <td>False</td>\n",
       "      <td>False</td>\n",
       "      <td>False</td>\n",
       "      <td>False</td>\n",
       "      <td>False</td>\n",
       "      <td>False</td>\n",
       "    </tr>\n",
       "    <tr>\n",
       "      <th>1447</th>\n",
       "      <td>False</td>\n",
       "      <td>False</td>\n",
       "      <td>False</td>\n",
       "      <td>False</td>\n",
       "      <td>False</td>\n",
       "      <td>False</td>\n",
       "      <td>False</td>\n",
       "      <td>False</td>\n",
       "      <td>False</td>\n",
       "      <td>False</td>\n",
       "      <td>False</td>\n",
       "      <td>False</td>\n",
       "      <td>False</td>\n",
       "    </tr>\n",
       "    <tr>\n",
       "      <th>1448</th>\n",
       "      <td>False</td>\n",
       "      <td>False</td>\n",
       "      <td>False</td>\n",
       "      <td>False</td>\n",
       "      <td>False</td>\n",
       "      <td>False</td>\n",
       "      <td>False</td>\n",
       "      <td>False</td>\n",
       "      <td>False</td>\n",
       "      <td>False</td>\n",
       "      <td>False</td>\n",
       "      <td>False</td>\n",
       "      <td>False</td>\n",
       "    </tr>\n",
       "    <tr>\n",
       "      <th>1449</th>\n",
       "      <td>False</td>\n",
       "      <td>False</td>\n",
       "      <td>False</td>\n",
       "      <td>False</td>\n",
       "      <td>False</td>\n",
       "      <td>False</td>\n",
       "      <td>False</td>\n",
       "      <td>False</td>\n",
       "      <td>False</td>\n",
       "      <td>False</td>\n",
       "      <td>False</td>\n",
       "      <td>False</td>\n",
       "      <td>False</td>\n",
       "    </tr>\n",
       "  </tbody>\n",
       "</table>\n",
       "<p>1450 rows × 13 columns</p>\n",
       "</div>"
      ],
      "text/plain": [
       "      show_id   type  title  director   cast  country  date_added  \\\n",
       "0       False  False  False     False  False     True       False   \n",
       "1       False  False  False     False  False     True       False   \n",
       "2       False  False  False     False  False    False       False   \n",
       "3       False  False  False     False  False     True       False   \n",
       "4       False  False  False      True  False     True       False   \n",
       "...       ...    ...    ...       ...    ...      ...         ...   \n",
       "1445    False  False  False     False  False    False       False   \n",
       "1446    False  False  False     False  False    False       False   \n",
       "1447    False  False  False     False  False    False       False   \n",
       "1448    False  False  False     False  False    False       False   \n",
       "1449    False  False  False     False  False    False       False   \n",
       "\n",
       "      release_year  rating  duration  listed_in  description  duration_numeric  \n",
       "0            False   False     False      False        False             False  \n",
       "1            False   False     False      False        False             False  \n",
       "2            False   False     False      False        False             False  \n",
       "3            False   False     False      False        False             False  \n",
       "4            False    True     False      False        False              True  \n",
       "...            ...     ...       ...        ...          ...               ...  \n",
       "1445         False   False     False      False        False             False  \n",
       "1446         False   False     False      False        False             False  \n",
       "1447         False   False     False      False        False             False  \n",
       "1448         False   False     False      False        False             False  \n",
       "1449         False   False     False      False        False             False  \n",
       "\n",
       "[1450 rows x 13 columns]"
      ]
     },
     "execution_count": 7,
     "metadata": {},
     "output_type": "execute_result"
    }
   ],
   "source": [
    "data.isna()"
   ]
  },
  {
   "cell_type": "markdown",
   "id": "f69ffcb6",
   "metadata": {},
   "source": [
    "# 10.Display the summary statistics (mean, min, max) for the 'release_year' column."
   ]
  },
  {
   "cell_type": "code",
   "execution_count": 35,
   "id": "4dea3d9d",
   "metadata": {},
   "outputs": [
    {
     "data": {
      "text/plain": [
       "count    1450.000000\n",
       "mean     2003.091724\n",
       "std        21.860162\n",
       "min      1928.000000\n",
       "25%      1999.000000\n",
       "50%      2011.000000\n",
       "75%      2018.000000\n",
       "max      2021.000000\n",
       "Name: release_year, dtype: float64"
      ]
     },
     "execution_count": 35,
     "metadata": {},
     "output_type": "execute_result"
    }
   ],
   "source": [
    "data['release_year'].describe()"
   ]
  },
  {
   "cell_type": "markdown",
   "id": "57ec1aa5",
   "metadata": {},
   "source": [
    "# 11.Sort the dataset by 'date_added' in descending order."
   ]
  },
  {
   "cell_type": "code",
   "execution_count": 37,
   "id": "c903eee9",
   "metadata": {},
   "outputs": [
    {
     "data": {
      "text/html": [
       "<div>\n",
       "<style scoped>\n",
       "    .dataframe tbody tr th:only-of-type {\n",
       "        vertical-align: middle;\n",
       "    }\n",
       "\n",
       "    .dataframe tbody tr th {\n",
       "        vertical-align: top;\n",
       "    }\n",
       "\n",
       "    .dataframe thead th {\n",
       "        text-align: right;\n",
       "    }\n",
       "</style>\n",
       "<table border=\"1\" class=\"dataframe\">\n",
       "  <thead>\n",
       "    <tr style=\"text-align: right;\">\n",
       "      <th></th>\n",
       "      <th>show_id</th>\n",
       "      <th>type</th>\n",
       "      <th>title</th>\n",
       "      <th>director</th>\n",
       "      <th>cast</th>\n",
       "      <th>country</th>\n",
       "      <th>date_added</th>\n",
       "      <th>release_year</th>\n",
       "      <th>rating</th>\n",
       "      <th>duration</th>\n",
       "      <th>listed_in</th>\n",
       "      <th>description</th>\n",
       "      <th>duration_numeric</th>\n",
       "    </tr>\n",
       "  </thead>\n",
       "  <tbody>\n",
       "    <tr>\n",
       "      <th>112</th>\n",
       "      <td>s113</td>\n",
       "      <td>TV Show</td>\n",
       "      <td>Doogie Kamealoha, M.D.</td>\n",
       "      <td>NaN</td>\n",
       "      <td>Peyton Elizabeth Lee, Emma Meisel, Matthew Sat...</td>\n",
       "      <td>United States</td>\n",
       "      <td>September 8, 2021</td>\n",
       "      <td>2021</td>\n",
       "      <td>TV-PG</td>\n",
       "      <td>1 Season</td>\n",
       "      <td>Comedy, Coming of Age, Family</td>\n",
       "      <td>A 16-year-old prodigy juggles her budding medi...</td>\n",
       "      <td>NaN</td>\n",
       "    </tr>\n",
       "    <tr>\n",
       "      <th>115</th>\n",
       "      <td>s116</td>\n",
       "      <td>TV Show</td>\n",
       "      <td>The Incredible Dr. Pol</td>\n",
       "      <td>NaN</td>\n",
       "      <td>Rick Robles, Dr. Pol</td>\n",
       "      <td>United States</td>\n",
       "      <td>September 8, 2021</td>\n",
       "      <td>2011</td>\n",
       "      <td>TV-14</td>\n",
       "      <td>19 Seasons</td>\n",
       "      <td>Animals &amp; Nature, Docuseries, Family</td>\n",
       "      <td>Dr. Pol and his team handle challenging veteri...</td>\n",
       "      <td>NaN</td>\n",
       "    </tr>\n",
       "    <tr>\n",
       "      <th>113</th>\n",
       "      <td>s114</td>\n",
       "      <td>TV Show</td>\n",
       "      <td>Mira, Royal Detective</td>\n",
       "      <td>NaN</td>\n",
       "      <td>Leela Ladnier, Utkarsh Ambudkar, Roshni Edward...</td>\n",
       "      <td>United States</td>\n",
       "      <td>September 8, 2021</td>\n",
       "      <td>2020</td>\n",
       "      <td>TV-Y</td>\n",
       "      <td>2 Seasons</td>\n",
       "      <td>Animation, Fantasy, Kids</td>\n",
       "      <td>Mira is the new royal detective in the land of...</td>\n",
       "      <td>NaN</td>\n",
       "    </tr>\n",
       "    <tr>\n",
       "      <th>114</th>\n",
       "      <td>s115</td>\n",
       "      <td>TV Show</td>\n",
       "      <td>Pepper Ann</td>\n",
       "      <td>NaN</td>\n",
       "      <td>Kathleen Wilhoite, Clea Lewis, Danny Cooksey, ...</td>\n",
       "      <td>United States</td>\n",
       "      <td>September 8, 2021</td>\n",
       "      <td>1997</td>\n",
       "      <td>TV-Y</td>\n",
       "      <td>3 Seasons</td>\n",
       "      <td>Animation, Comedy, Coming of Age</td>\n",
       "      <td>Pepper Ann Pearson is a teenage girl on an ete...</td>\n",
       "      <td>NaN</td>\n",
       "    </tr>\n",
       "    <tr>\n",
       "      <th>419</th>\n",
       "      <td>s420</td>\n",
       "      <td>Movie</td>\n",
       "      <td>Trick or Treat</td>\n",
       "      <td>Jack Hannah</td>\n",
       "      <td>NaN</td>\n",
       "      <td>United States</td>\n",
       "      <td>September 4, 2020</td>\n",
       "      <td>1952</td>\n",
       "      <td>TV-G</td>\n",
       "      <td>9 min</td>\n",
       "      <td>Animation, Family, Fantasy</td>\n",
       "      <td>Donald plays a trick on his nephews, but a wit...</td>\n",
       "      <td>9.0</td>\n",
       "    </tr>\n",
       "    <tr>\n",
       "      <th>...</th>\n",
       "      <td>...</td>\n",
       "      <td>...</td>\n",
       "      <td>...</td>\n",
       "      <td>...</td>\n",
       "      <td>...</td>\n",
       "      <td>...</td>\n",
       "      <td>...</td>\n",
       "      <td>...</td>\n",
       "      <td>...</td>\n",
       "      <td>...</td>\n",
       "      <td>...</td>\n",
       "      <td>...</td>\n",
       "      <td>...</td>\n",
       "    </tr>\n",
       "    <tr>\n",
       "      <th>595</th>\n",
       "      <td>s596</td>\n",
       "      <td>Movie</td>\n",
       "      <td>Prom</td>\n",
       "      <td>Joe Nussbaum</td>\n",
       "      <td>Aimee Teegarden, Thomas McDonell, De'Vaughn Ni...</td>\n",
       "      <td>United States</td>\n",
       "      <td>April 1, 2020</td>\n",
       "      <td>2011</td>\n",
       "      <td>PG</td>\n",
       "      <td>105 min</td>\n",
       "      <td>Comedy, Coming of Age, Drama</td>\n",
       "      <td>At Prom, every couple has a story, and no two ...</td>\n",
       "      <td>105.0</td>\n",
       "    </tr>\n",
       "    <tr>\n",
       "      <th>1449</th>\n",
       "      <td>s1450</td>\n",
       "      <td>Movie</td>\n",
       "      <td>Captain Sparky vs. The Flying Saucers</td>\n",
       "      <td>Mark Waring</td>\n",
       "      <td>Charlie Tahan</td>\n",
       "      <td>United States</td>\n",
       "      <td>April 1, 2020</td>\n",
       "      <td>2012</td>\n",
       "      <td>TV-G</td>\n",
       "      <td>2 min</td>\n",
       "      <td>Action-Adventure, Animals &amp; Nature, Animation</td>\n",
       "      <td>View one of Sparky's favorite home movies.</td>\n",
       "      <td>2.0</td>\n",
       "    </tr>\n",
       "    <tr>\n",
       "      <th>1439</th>\n",
       "      <td>s1440</td>\n",
       "      <td>TV Show</td>\n",
       "      <td>Disney Kirby Buckets</td>\n",
       "      <td>NaN</td>\n",
       "      <td>Jacob Bertrand, Mekai Curtis, Cade Sutton, Oli...</td>\n",
       "      <td>United States</td>\n",
       "      <td>NaN</td>\n",
       "      <td>2014</td>\n",
       "      <td>TV-Y7</td>\n",
       "      <td>3 Seasons</td>\n",
       "      <td>Action-Adventure, Comedy, Coming of Age</td>\n",
       "      <td>Welcome to Kirby's world! It's rude and sketchy.</td>\n",
       "      <td>NaN</td>\n",
       "    </tr>\n",
       "    <tr>\n",
       "      <th>1440</th>\n",
       "      <td>s1441</td>\n",
       "      <td>TV Show</td>\n",
       "      <td>Disney Mech-X4</td>\n",
       "      <td>NaN</td>\n",
       "      <td>Nathaniel Potvin, Raymond Cham, Kamran Lucas, ...</td>\n",
       "      <td>Canada</td>\n",
       "      <td>NaN</td>\n",
       "      <td>2016</td>\n",
       "      <td>TV-Y7</td>\n",
       "      <td>2 Seasons</td>\n",
       "      <td>Action-Adventure, Comedy, Science Fiction</td>\n",
       "      <td>Ryan discovers his ability to control a giant ...</td>\n",
       "      <td>NaN</td>\n",
       "    </tr>\n",
       "    <tr>\n",
       "      <th>1441</th>\n",
       "      <td>s1442</td>\n",
       "      <td>TV Show</td>\n",
       "      <td>Imagination Movers</td>\n",
       "      <td>NaN</td>\n",
       "      <td>Rich Collins, Dave Poche, Scott Durbin, Scott ...</td>\n",
       "      <td>United States</td>\n",
       "      <td>NaN</td>\n",
       "      <td>2008</td>\n",
       "      <td>TV-Y</td>\n",
       "      <td>3 Seasons</td>\n",
       "      <td>Kids, Music</td>\n",
       "      <td>Rock out with the Imagination Movers, Disney J...</td>\n",
       "      <td>NaN</td>\n",
       "    </tr>\n",
       "  </tbody>\n",
       "</table>\n",
       "<p>1450 rows × 13 columns</p>\n",
       "</div>"
      ],
      "text/plain": [
       "     show_id     type                                  title      director  \\\n",
       "112     s113  TV Show                 Doogie Kamealoha, M.D.           NaN   \n",
       "115     s116  TV Show                 The Incredible Dr. Pol           NaN   \n",
       "113     s114  TV Show                  Mira, Royal Detective           NaN   \n",
       "114     s115  TV Show                             Pepper Ann           NaN   \n",
       "419     s420    Movie                         Trick or Treat   Jack Hannah   \n",
       "...      ...      ...                                    ...           ...   \n",
       "595     s596    Movie                                   Prom  Joe Nussbaum   \n",
       "1449   s1450    Movie  Captain Sparky vs. The Flying Saucers   Mark Waring   \n",
       "1439   s1440  TV Show                   Disney Kirby Buckets           NaN   \n",
       "1440   s1441  TV Show                         Disney Mech-X4           NaN   \n",
       "1441   s1442  TV Show                     Imagination Movers           NaN   \n",
       "\n",
       "                                                   cast        country  \\\n",
       "112   Peyton Elizabeth Lee, Emma Meisel, Matthew Sat...  United States   \n",
       "115                                Rick Robles, Dr. Pol  United States   \n",
       "113   Leela Ladnier, Utkarsh Ambudkar, Roshni Edward...  United States   \n",
       "114   Kathleen Wilhoite, Clea Lewis, Danny Cooksey, ...  United States   \n",
       "419                                                 NaN  United States   \n",
       "...                                                 ...            ...   \n",
       "595   Aimee Teegarden, Thomas McDonell, De'Vaughn Ni...  United States   \n",
       "1449                                      Charlie Tahan  United States   \n",
       "1439  Jacob Bertrand, Mekai Curtis, Cade Sutton, Oli...  United States   \n",
       "1440  Nathaniel Potvin, Raymond Cham, Kamran Lucas, ...         Canada   \n",
       "1441  Rich Collins, Dave Poche, Scott Durbin, Scott ...  United States   \n",
       "\n",
       "             date_added  release_year rating    duration  \\\n",
       "112   September 8, 2021          2021  TV-PG    1 Season   \n",
       "115   September 8, 2021          2011  TV-14  19 Seasons   \n",
       "113   September 8, 2021          2020   TV-Y   2 Seasons   \n",
       "114   September 8, 2021          1997   TV-Y   3 Seasons   \n",
       "419   September 4, 2020          1952   TV-G       9 min   \n",
       "...                 ...           ...    ...         ...   \n",
       "595       April 1, 2020          2011     PG     105 min   \n",
       "1449      April 1, 2020          2012   TV-G       2 min   \n",
       "1439                NaN          2014  TV-Y7   3 Seasons   \n",
       "1440                NaN          2016  TV-Y7   2 Seasons   \n",
       "1441                NaN          2008   TV-Y   3 Seasons   \n",
       "\n",
       "                                          listed_in  \\\n",
       "112                   Comedy, Coming of Age, Family   \n",
       "115            Animals & Nature, Docuseries, Family   \n",
       "113                        Animation, Fantasy, Kids   \n",
       "114                Animation, Comedy, Coming of Age   \n",
       "419                      Animation, Family, Fantasy   \n",
       "...                                             ...   \n",
       "595                    Comedy, Coming of Age, Drama   \n",
       "1449  Action-Adventure, Animals & Nature, Animation   \n",
       "1439        Action-Adventure, Comedy, Coming of Age   \n",
       "1440      Action-Adventure, Comedy, Science Fiction   \n",
       "1441                                    Kids, Music   \n",
       "\n",
       "                                            description  duration_numeric  \n",
       "112   A 16-year-old prodigy juggles her budding medi...               NaN  \n",
       "115   Dr. Pol and his team handle challenging veteri...               NaN  \n",
       "113   Mira is the new royal detective in the land of...               NaN  \n",
       "114   Pepper Ann Pearson is a teenage girl on an ete...               NaN  \n",
       "419   Donald plays a trick on his nephews, but a wit...               9.0  \n",
       "...                                                 ...               ...  \n",
       "595   At Prom, every couple has a story, and no two ...             105.0  \n",
       "1449         View one of Sparky's favorite home movies.               2.0  \n",
       "1439   Welcome to Kirby's world! It's rude and sketchy.               NaN  \n",
       "1440  Ryan discovers his ability to control a giant ...               NaN  \n",
       "1441  Rock out with the Imagination Movers, Disney J...               NaN  \n",
       "\n",
       "[1450 rows x 13 columns]"
      ]
     },
     "execution_count": 37,
     "metadata": {},
     "output_type": "execute_result"
    }
   ],
   "source": [
    "data.sort_values(by=['date_added'],ascending=False)"
   ]
  },
  {
   "cell_type": "markdown",
   "id": "313f6bf4",
   "metadata": {},
   "source": [
    "# 12.How many TV shows are there in the dataset?"
   ]
  },
  {
   "cell_type": "code",
   "execution_count": 46,
   "id": "c93bca48",
   "metadata": {},
   "outputs": [
    {
     "data": {
      "text/plain": [
       "398"
      ]
     },
     "execution_count": 46,
     "metadata": {},
     "output_type": "execute_result"
    }
   ],
   "source": [
    "data[data['type']=='TV Show'].shape[0]"
   ]
  },
  {
   "cell_type": "markdown",
   "id": "ba8d697a",
   "metadata": {},
   "source": [
    "# 13.How many unique countries are represented in the dataset?\n"
   ]
  },
  {
   "cell_type": "code",
   "execution_count": 53,
   "id": "8f966aed",
   "metadata": {},
   "outputs": [
    {
     "data": {
      "text/plain": [
       "89"
      ]
     },
     "execution_count": 53,
     "metadata": {},
     "output_type": "execute_result"
    }
   ],
   "source": [
    "data['country'].nunique()"
   ]
  },
  {
   "cell_type": "markdown",
   "id": "f7c151b8",
   "metadata": {},
   "source": [
    "# 14.How many unique directors are there in the dataset?"
   ]
  },
  {
   "cell_type": "code",
   "execution_count": 54,
   "id": "13174fb2",
   "metadata": {},
   "outputs": [
    {
     "data": {
      "text/plain": [
       "609"
      ]
     },
     "execution_count": 54,
     "metadata": {},
     "output_type": "execute_result"
    }
   ],
   "source": [
    "data['director'].nunique()"
   ]
  },
  {
   "cell_type": "markdown",
   "id": "0be30687",
   "metadata": {},
   "source": [
    "# 15.How many unique directors are there in the dataset?"
   ]
  },
  {
   "cell_type": "code",
   "execution_count": 11,
   "id": "f842ef71",
   "metadata": {},
   "outputs": [
    {
     "data": {
      "text/plain": [
       "1928"
      ]
     },
     "execution_count": 11,
     "metadata": {},
     "output_type": "execute_result"
    }
   ],
   "source": [
    "data['release_year'].min()"
   ]
  },
  {
   "cell_type": "markdown",
   "id": "f5c22485",
   "metadata": {},
   "source": [
    "# 16.List the top 3 countries with the most TV shows."
   ]
  },
  {
   "cell_type": "code",
   "execution_count": 57,
   "id": "d5855828",
   "metadata": {},
   "outputs": [
    {
     "data": {
      "text/plain": [
       "country\n",
       "United States            228\n",
       "United Kingdom            12\n",
       "United States, Canada      5\n",
       "Name: count, dtype: int64"
      ]
     },
     "execution_count": 57,
     "metadata": {},
     "output_type": "execute_result"
    }
   ],
   "source": [
    "data[data['type'] == 'TV Show']['country'].value_counts().head(3)"
   ]
  },
  {
   "cell_type": "markdown",
   "id": "38ba4ad0",
   "metadata": {},
   "source": [
    "# 17.List the titles of shows/movies directed by 'John Cherry'."
   ]
  },
  {
   "cell_type": "code",
   "execution_count": 60,
   "id": "7c6d0555",
   "metadata": {},
   "outputs": [
    {
     "data": {
      "text/plain": [
       "1    Ernest Saves Christmas\n",
       "Name: title, dtype: object"
      ]
     },
     "execution_count": 60,
     "metadata": {},
     "output_type": "execute_result"
    }
   ],
   "source": [
    "data[data['director'] == 'John Cherry']['title']"
   ]
  },
  {
   "cell_type": "markdown",
   "id": "7e45f8aa",
   "metadata": {},
   "source": [
    "# 18.What is the most common rating in the dataset?"
   ]
  },
  {
   "cell_type": "code",
   "execution_count": 69,
   "id": "489777cd",
   "metadata": {},
   "outputs": [
    {
     "data": {
      "text/plain": [
       "'TV-G'"
      ]
     },
     "execution_count": 69,
     "metadata": {},
     "output_type": "execute_result"
    }
   ],
   "source": [
    "most_common_rating = data['rating'].mode().iloc[0]\n",
    "most_common_rating"
   ]
  },
  {
   "cell_type": "markdown",
   "id": "53d4f545",
   "metadata": {},
   "source": [
    "# 19.What is the distribution of ratings in the dataset? Display a count of each unique rating.\n"
   ]
  },
  {
   "cell_type": "code",
   "execution_count": 70,
   "id": "af0ed459",
   "metadata": {},
   "outputs": [
    {
     "data": {
      "text/plain": [
       "rating\n",
       "TV-G        318\n",
       "TV-PG       301\n",
       "G           253\n",
       "PG          236\n",
       "TV-Y7       131\n",
       "TV-14        79\n",
       "PG-13        66\n",
       "TV-Y         50\n",
       "TV-Y7-FV     13\n",
       "Name: count, dtype: int64"
      ]
     },
     "execution_count": 70,
     "metadata": {},
     "output_type": "execute_result"
    }
   ],
   "source": [
    "rating_distribution = data['rating'].value_counts()\n",
    "rating_distribution "
   ]
  },
  {
   "cell_type": "markdown",
   "id": "49c31a20",
   "metadata": {},
   "source": [
    "# 20.How many seasons does the TV show 'Hawkeye' have?"
   ]
  },
  {
   "cell_type": "code",
   "execution_count": 76,
   "id": "675f27e9",
   "metadata": {},
   "outputs": [
    {
     "data": {
      "text/plain": [
       "6    1 Season\n",
       "Name: duration, dtype: object"
      ]
     },
     "execution_count": 76,
     "metadata": {},
     "output_type": "execute_result"
    }
   ],
   "source": [
    "hawkeye_seasons = data[data['title'] == 'Hawkeye']['duration']\n",
    "hawkeye_seasons"
   ]
  },
  {
   "cell_type": "markdown",
   "id": "036ae8e5",
   "metadata": {},
   "source": [
    "# 21.List the movies directed by Karen Disher."
   ]
  },
  {
   "cell_type": "code",
   "execution_count": 86,
   "id": "fb342ed3",
   "metadata": {},
   "outputs": [
    {
     "data": {
      "text/html": [
       "<div>\n",
       "<style scoped>\n",
       "    .dataframe tbody tr th:only-of-type {\n",
       "        vertical-align: middle;\n",
       "    }\n",
       "\n",
       "    .dataframe tbody tr th {\n",
       "        vertical-align: top;\n",
       "    }\n",
       "\n",
       "    .dataframe thead th {\n",
       "        text-align: right;\n",
       "    }\n",
       "</style>\n",
       "<table border=\"1\" class=\"dataframe\">\n",
       "  <thead>\n",
       "    <tr style=\"text-align: right;\">\n",
       "      <th></th>\n",
       "      <th>show_id</th>\n",
       "      <th>type</th>\n",
       "      <th>title</th>\n",
       "      <th>director</th>\n",
       "      <th>cast</th>\n",
       "      <th>country</th>\n",
       "      <th>date_added</th>\n",
       "      <th>release_year</th>\n",
       "      <th>rating</th>\n",
       "      <th>duration</th>\n",
       "      <th>listed_in</th>\n",
       "      <th>description</th>\n",
       "      <th>duration_numeric</th>\n",
       "    </tr>\n",
       "  </thead>\n",
       "  <tbody>\n",
       "    <tr>\n",
       "      <th>2</th>\n",
       "      <td>s3</td>\n",
       "      <td>Movie</td>\n",
       "      <td>Ice Age: A Mammoth Christmas</td>\n",
       "      <td>Karen Disher</td>\n",
       "      <td>Raymond Albert Romano, John Leguizamo, Denis L...</td>\n",
       "      <td>United States</td>\n",
       "      <td>November 26, 2021</td>\n",
       "      <td>2011</td>\n",
       "      <td>TV-G</td>\n",
       "      <td>23</td>\n",
       "      <td>Animation, Comedy, Family</td>\n",
       "      <td>Sid the Sloth is on Santa's naughty list.</td>\n",
       "      <td>23.0</td>\n",
       "    </tr>\n",
       "  </tbody>\n",
       "</table>\n",
       "</div>"
      ],
      "text/plain": [
       "  show_id   type                         title      director  \\\n",
       "2      s3  Movie  Ice Age: A Mammoth Christmas  Karen Disher   \n",
       "\n",
       "                                                cast        country  \\\n",
       "2  Raymond Albert Romano, John Leguizamo, Denis L...  United States   \n",
       "\n",
       "          date_added  release_year rating  duration  \\\n",
       "2  November 26, 2021          2011   TV-G        23   \n",
       "\n",
       "                   listed_in                                description  \\\n",
       "2  Animation, Comedy, Family  Sid the Sloth is on Santa's naughty list.   \n",
       "\n",
       "   duration_numeric  \n",
       "2              23.0  "
      ]
     },
     "execution_count": 86,
     "metadata": {},
     "output_type": "execute_result"
    }
   ],
   "source": [
    "data[data['director'] == 'Karen Disher']"
   ]
  },
  {
   "cell_type": "markdown",
   "id": "b8ff939a",
   "metadata": {},
   "source": [
    "# 22.Identify the top 3 genres with the most occurrences in the dataset."
   ]
  },
  {
   "cell_type": "code",
   "execution_count": 107,
   "id": "b116193c",
   "metadata": {},
   "outputs": [
    {
     "data": {
      "text/plain": [
       "listed_in\n",
       "Family       632\n",
       "Animation    542\n",
       "Comedy       526\n",
       "Name: count, dtype: int64"
      ]
     },
     "execution_count": 107,
     "metadata": {},
     "output_type": "execute_result"
    }
   ],
   "source": [
    "import pandas as pd\n",
    "genres_split = data['listed_in'].str.split(',').explode()\n",
    "genres_cleaned = genres_split.str.strip()\n",
    "top_genres = genres_cleaned.value_counts().head(3)\n",
    "top_genres"
   ]
  }
 ],
 "metadata": {
  "kernelspec": {
   "display_name": "Python 3 (ipykernel)",
   "language": "python",
   "name": "python3"
  },
  "language_info": {
   "codemirror_mode": {
    "name": "ipython",
    "version": 3
   },
   "file_extension": ".py",
   "mimetype": "text/x-python",
   "name": "python",
   "nbconvert_exporter": "python",
   "pygments_lexer": "ipython3",
   "version": "3.11.5"
  }
 },
 "nbformat": 4,
 "nbformat_minor": 5
}
